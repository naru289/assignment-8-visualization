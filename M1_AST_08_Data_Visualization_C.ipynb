{
  "nbformat": 4,
  "nbformat_minor": 0,
  "metadata": {
    "colab": {
      "provenance": [],
      "include_colab_link": true
    },
    "kernelspec": {
      "name": "python3",
      "display_name": "Python 3"
    },
    "language_info": {
      "name": "python"
    },
    "gpuClass": "standard"
  },
  "cells": [
    {
      "cell_type": "markdown",
      "metadata": {
        "id": "view-in-github",
        "colab_type": "text"
      },
      "source": [
        "<a href=\"https://colab.research.google.com/github/naru289/assignment-8-visualization/blob/main/M1_AST_08_Data_Visualization_C.ipynb\" target=\"_parent\"><img src=\"https://colab.research.google.com/assets/colab-badge.svg\" alt=\"Open In Colab\"/></a>"
      ]
    },
    {
      "cell_type": "markdown",
      "metadata": {
        "id": "gvf2pjnW7nVW"
      },
      "source": [
        "# Advanced Programme in Deep Learning (Foundations and Applications)\n",
        "## A Program by IISc and TalentSprint\n",
        "### Assignment 8: Data Visualization "
      ]
    },
    {
      "cell_type": "markdown",
      "metadata": {
        "id": "P6ijzT0f74Vn"
      },
      "source": [
        "## Learning Objectives"
      ]
    },
    {
      "cell_type": "markdown",
      "metadata": {
        "id": "e2f0jt0oTtC-"
      },
      "source": [
        " At the end of the experiment, you will be able to:\n",
        "\n",
        "* understand the importance of data visualization\n",
        "* implement data visualization using different ways\n",
        "* visualize the outliers in a dataset\n",
        "* implement the different types of graphs and charts"
      ]
    },
    {
      "cell_type": "markdown",
      "metadata": {
        "id": "7OiFi8nj77AW"
      },
      "source": [
        "### Setup Steps:"
      ]
    },
    {
      "cell_type": "code",
      "metadata": {
        "id": "Lkymlu7dHBT9"
      },
      "source": [
        "#@title Please enter your registration id to start: { run: \"auto\", display-mode: \"form\" }\n",
        "Id = \"\" #@param {type:\"string\"}"
      ],
      "execution_count": null,
      "outputs": []
    },
    {
      "cell_type": "code",
      "metadata": {
        "id": "owOgNJrpHBT-"
      },
      "source": [
        "#@title Please enter your password (normally your phone number) to continue: { run: \"auto\", display-mode: \"form\" }\n",
        "password = \"\" #@param {type:\"string\"}"
      ],
      "execution_count": null,
      "outputs": []
    },
    {
      "cell_type": "code",
      "metadata": {
        "id": "IQD_n-K6d8jM",
        "cellView": "form"
      },
      "source": [
        "#@title Run this cell to complete the setup for this Notebook\n",
        "from IPython import get_ipython\n",
        "import warnings\n",
        "warnings.filterwarnings(\"ignore\")\n",
        "\n",
        "ipython = get_ipython()\n",
        "  \n",
        "notebook= \"M1_AST_08_Data_Visualization_C\" #name of the notebook\n",
        "\n",
        "def setup():\n",
        "    ipython.magic(\"sx wget -q https://cdn.iisc.talentsprint.com/DLFA/Experiment_related_data/breast_cancer.csv\")  \n",
        "    ipython.magic(\"sx wget -q https://cdn.iisc.talentsprint.com/DLFA/Experiment_related_data/iris.csv\")\n",
        "    ipython.magic(\"sx wget -q https://cdn.iisc.talentsprint.com/DLFA/Experiment_related_data/Hitters.csv\")\n",
        "    from IPython.display import HTML, display\n",
        "    display(HTML('<script src=\"https://dashboard.talentsprint.com/aiml/record_ip.html?traineeId={0}&recordId={1}\"></script>'.format(getId(),submission_id)))\n",
        "    print(\"Setup completed successfully\")\n",
        "    return\n",
        "\n",
        "def submit_notebook():\n",
        "    ipython.magic(\"notebook -e \"+ notebook + \".ipynb\")\n",
        "    \n",
        "    import requests, json, base64, datetime\n",
        "\n",
        "    url = \"https://dashboard.talentsprint.com/xp/app/save_notebook_attempts\"\n",
        "    if not submission_id:\n",
        "      data = {\"id\" : getId(), \"notebook\" : notebook, \"mobile\" : getPassword()}\n",
        "      r = requests.post(url, data = data)\n",
        "      r = json.loads(r.text)\n",
        "\n",
        "      if r[\"status\"] == \"Success\":\n",
        "          return r[\"record_id\"]\n",
        "      elif \"err\" in r:        \n",
        "        print(r[\"err\"])\n",
        "        return None        \n",
        "      else:\n",
        "        print (\"Something is wrong, the notebook will not be submitted for grading\")\n",
        "        return None\n",
        "    \n",
        "    elif getAnswer1() and getAnswer2() and getComplexity() and getAdditional() and getConcepts() and getComments() and getMentorSupport():\n",
        "      f = open(notebook + \".ipynb\", \"rb\")\n",
        "      file_hash = base64.b64encode(f.read())\n",
        "\n",
        "      data = {\"complexity\" : Complexity, \"additional\" :Additional, \n",
        "              \"concepts\" : Concepts, \"record_id\" : submission_id, \n",
        "              \"answer1\" : Answer1, \"answer2\" : Answer2, \"id\" : Id, \"file_hash\" : file_hash,\n",
        "              \"notebook\" : notebook,\n",
        "              \"feedback_experiments_input\" : Comments,\n",
        "              \"feedback_mentor_support\": Mentor_support}\n",
        "      r = requests.post(url, data = data)\n",
        "      r = json.loads(r.text)\n",
        "      if \"err\" in r:        \n",
        "        print(r[\"err\"])\n",
        "        return None   \n",
        "      else:\n",
        "        print(\"Your submission is successful.\")\n",
        "        print(\"Ref Id:\", submission_id)\n",
        "        print(\"Date of submission: \", r[\"date\"])\n",
        "        print(\"Time of submission: \", r[\"time\"])\n",
        "        print(\"View your submissions: https://dlfa-iisc.talentsprint.com/notebook_submissions\")\n",
        "        #print(\"For any queries/discrepancies, please connect with mentors through the chat icon in LMS dashboard.\")\n",
        "        return submission_id\n",
        "    else: submission_id\n",
        "    \n",
        "\n",
        "def getAdditional():\n",
        "  try:\n",
        "    if not Additional: \n",
        "      raise NameError\n",
        "    else:\n",
        "      return Additional  \n",
        "  except NameError:\n",
        "    print (\"Please answer Additional Question\")\n",
        "    return None\n",
        "\n",
        "def getComplexity():\n",
        "  try:\n",
        "    if not Complexity:\n",
        "      raise NameError\n",
        "    else:\n",
        "      return Complexity\n",
        "  except NameError:\n",
        "    print (\"Please answer Complexity Question\")\n",
        "    return None\n",
        "  \n",
        "def getConcepts():\n",
        "  try:\n",
        "    if not Concepts:\n",
        "      raise NameError\n",
        "    else:\n",
        "      return Concepts\n",
        "  except NameError:\n",
        "    print (\"Please answer Concepts Question\")\n",
        "    return None\n",
        "  \n",
        "  \n",
        "# def getWalkthrough():\n",
        "#   try:\n",
        "#     if not Walkthrough:\n",
        "#       raise NameError\n",
        "#     else:\n",
        "#       return Walkthrough\n",
        "#   except NameError:\n",
        "#     print (\"Please answer Walkthrough Question\")\n",
        "#     return None\n",
        "  \n",
        "def getComments():\n",
        "  try:\n",
        "    if not Comments:\n",
        "      raise NameError\n",
        "    else:\n",
        "      return Comments\n",
        "  except NameError:\n",
        "    print (\"Please answer Comments Question\")\n",
        "    return None\n",
        "  \n",
        "\n",
        "def getMentorSupport():\n",
        "  try:\n",
        "    if not Mentor_support:\n",
        "      raise NameError\n",
        "    else:\n",
        "      return Mentor_support\n",
        "  except NameError:\n",
        "    print (\"Please answer Mentor support Question\")\n",
        "    return None\n",
        "\n",
        "def getAnswer1():\n",
        "  try:\n",
        "    if not Answer1:\n",
        "      raise NameError \n",
        "    else: \n",
        "      return Answer1\n",
        "  except NameError:\n",
        "    print (\"Please answer Question 1\")\n",
        "    return None\n",
        "\n",
        "def getAnswer2():\n",
        "  try:\n",
        "    if not Answer2:\n",
        "      raise NameError \n",
        "    else: \n",
        "      return Answer2\n",
        "  except NameError:\n",
        "    print (\"Please answer Question 2\")\n",
        "    return None\n",
        "  \n",
        "\n",
        "def getId():\n",
        "  try: \n",
        "    return Id if Id else None\n",
        "  except NameError:\n",
        "    return None\n",
        "\n",
        "def getPassword():\n",
        "  try:\n",
        "    return password if password else None\n",
        "  except NameError:\n",
        "    return None\n",
        "\n",
        "submission_id = None\n",
        "### Setup \n",
        "if getPassword() and getId():\n",
        "  submission_id = submit_notebook()\n",
        "  if submission_id:\n",
        "    setup() \n",
        "else:\n",
        "  print (\"Please complete Id and Password cells before running setup\")\n",
        "\n"
      ],
      "execution_count": null,
      "outputs": []
    },
    {
      "cell_type": "markdown",
      "metadata": {
        "id": "Y8q1pXWz8oiy"
      },
      "source": [
        "#### Importing required packages"
      ]
    },
    {
      "cell_type": "code",
      "metadata": {
        "id": "BXsbNXl68_5L"
      },
      "source": [
        "import numpy as np\n",
        "import pandas as pd\n",
        "import seaborn as sns\n",
        "import matplotlib.pyplot as plt"
      ],
      "execution_count": null,
      "outputs": []
    },
    {
      "cell_type": "markdown",
      "metadata": {
        "id": "18Pgv8fXAsVH"
      },
      "source": [
        "**Importing data as Pandas dataframe**\n",
        "\n",
        "Seaborn is a data visualization library built on top of matplotlib and closely integrated with pandas data structures in Python.\n",
        "\n",
        "In this section, we will import a dataset from seaborn. "
      ]
    },
    {
      "cell_type": "code",
      "metadata": {
        "id": "06MEWSBpAuh0"
      },
      "source": [
        "# Loading data\n",
        "data = sns.load_dataset('tips')"
      ],
      "execution_count": null,
      "outputs": []
    },
    {
      "cell_type": "markdown",
      "metadata": {
        "id": "q7iVlbNmCiGi"
      },
      "source": [
        " **01.** For the given dataset, perform the following:\n",
        "\n",
        "1. Display first 5 and last 5 entries from the dataset\n",
        "2. Plot a Univariate Distribution for `'total_bill'` from dataframe using distplot()\n",
        "\n",
        "**Hint:** The **`distplot()`** function provides a quick look at univariate distribution. This function will plot a histogram that fits the kernel density estimate of the data"
      ]
    },
    {
      "cell_type": "code",
      "metadata": {
        "id": "ezBBJ4G0SATN"
      },
      "source": [
        "# Displaying first five entries\n",
        "data.head()"
      ],
      "execution_count": null,
      "outputs": []
    },
    {
      "cell_type": "code",
      "metadata": {
        "id": "sqIJyle_SGg0"
      },
      "source": [
        "# Displaying last five entries\n",
        "data.tail()"
      ],
      "execution_count": null,
      "outputs": []
    },
    {
      "cell_type": "code",
      "metadata": {
        "id": "aDg4oZNrCkJ0"
      },
      "source": [
        "# Plotting the graph\n",
        "sns.distplot(data[\"total_bill\"]);"
      ],
      "execution_count": null,
      "outputs": []
    },
    {
      "cell_type": "markdown",
      "metadata": {
        "id": "_MViZ0KTCoS1"
      },
      "source": [
        "**02.** Plot a FacetGrid for both male and female records with `\"total_bill\"` and `\"tip\"` in X and Y axis respectively\n",
        "\n",
        "**FacetGrid()** class helps in visualizing distribution of one variable as well as the relationship between multiple variables separately within subsets of your dataset using multiple panels\n",
        "\n",
        "**Hint:** Take hue as `\"smoker\"`"
      ]
    },
    {
      "cell_type": "code",
      "metadata": {
        "id": "gNsbkIFYCqpD"
      },
      "source": [
        "# Plotting the graph\n",
        "grid = sns.FacetGrid(data, col = 'sex', hue = 'smoker')\n",
        "grid = grid.map(plt.scatter, 'total_bill',\"tip\")\n",
        "grid.add_legend();"
      ],
      "execution_count": null,
      "outputs": []
    },
    {
      "cell_type": "markdown",
      "metadata": {
        "id": "qG9cmH48CucS"
      },
      "source": [
        "**03.** Plot a Histogram for the columns `\"total_bill\", \"size\", \"tip\"` \n"
      ]
    },
    {
      "cell_type": "code",
      "metadata": {
        "id": "fDaYz96mCuOA"
      },
      "source": [
        "# Plotting the graph\n",
        "data.hist()\n",
        "plt.show()"
      ],
      "execution_count": null,
      "outputs": []
    },
    {
      "cell_type": "code",
      "source": [
        "x = data['total_bill']\n",
        "y = data['tip']\n",
        "plt.hist2d(x, y, bins=30, cmap='Blues')\n",
        "cb = plt.colorbar()\n",
        "cb.set_label('Counts in Hist bin')"
      ],
      "metadata": {
        "id": "nHc2i0KoVbpD"
      },
      "execution_count": null,
      "outputs": []
    },
    {
      "cell_type": "markdown",
      "metadata": {
        "id": "X42Zs7YLCybw"
      },
      "source": [
        " **04.** Perform scatter plot with\n",
        "\n",
        "  * X-label = `'total_bill'`\n",
        "  * Y-label = `'tip'`\n",
        "  * Title = `\"Scatter Plot\"`"
      ]
    },
    {
      "cell_type": "code",
      "metadata": {
        "id": "wy2Lf4eOQL8z"
      },
      "source": [
        "# Plotting the graph\n",
        "plt.title(\"Scatter Plot\")\n",
        "sns.scatterplot(x = \"total_bill\", y = \"tip\", data = data)\n",
        "plt.show()"
      ],
      "execution_count": null,
      "outputs": []
    },
    {
      "cell_type": "markdown",
      "metadata": {
        "id": "rbPKU5UTC3nH"
      },
      "source": [
        "**05.** Visualize pairwise relationship with a **pairplot()**\n",
        "\n",
        "**Hint:** Take hue as `\"smoker\"`"
      ]
    },
    {
      "cell_type": "code",
      "metadata": {
        "id": "9WdQ0sS25uT4"
      },
      "source": [
        "# Plotting the graph\n",
        "sns.pairplot(data, hue=\"smoker\");"
      ],
      "execution_count": null,
      "outputs": []
    },
    {
      "cell_type": "markdown",
      "metadata": {
        "id": "j6-v_6oqC65r"
      },
      "source": [
        "**06.** Visualize a **Strip Plot** with\n",
        " \n",
        "  * X-label = `'day'`\n",
        "  * Y-label = `'total_bill'`\n",
        "  * Title = `\"Strip Plot\"`"
      ]
    },
    {
      "cell_type": "code",
      "metadata": {
        "id": "41yKjbQNQTv-"
      },
      "source": [
        "# Plotting the graph\n",
        "plt.title(\"Strip Plot\")\n",
        "sns.stripplot(x = 'day', y = 'total_bill', data = data);"
      ],
      "execution_count": null,
      "outputs": []
    },
    {
      "cell_type": "markdown",
      "metadata": {
        "id": "dSPeOSCHC8-k"
      },
      "source": [
        "**07.** From the given dataset, visualize a combined plot of both **stripplot and the boxplot** to view the outliers with\n",
        "\n",
        " * X-label = `'day'` \n",
        " * Y-label = `'total_bill'`\n",
        " * Title = \"Strip and Box Plot\""
      ]
    },
    {
      "cell_type": "code",
      "metadata": {
        "id": "S_afrlceQVBJ"
      },
      "source": [
        "# Plotting the graph\n",
        "plt.title(\"Strip and Box Plot\")\n",
        "sns.stripplot(x = 'day', y = 'total_bill', data=data)\n",
        "sns.boxplot(x = 'day', y = 'total_bill', data=data);"
      ],
      "execution_count": null,
      "outputs": []
    },
    {
      "cell_type": "markdown",
      "metadata": {
        "id": "pHHaeHtyC_Kt"
      },
      "source": [
        "**08.** Display violinplot with \n",
        "* X-label =`'day'`\n",
        "* Y-label=`'total_bill'`"
      ]
    },
    {
      "cell_type": "code",
      "metadata": {
        "id": "hdb9eVrPQVqX"
      },
      "source": [
        "# Plotting the graph\n",
        "sns.violinplot(x = 'day', y = 'total_bill', data = data);"
      ],
      "execution_count": null,
      "outputs": []
    },
    {
      "cell_type": "markdown",
      "metadata": {
        "id": "AZUjKyMmDBNk"
      },
      "source": [
        "**09.** Draw a barplot with\n",
        "* X-label =`'day'`\n",
        "* Y-label=`'total_bill'`"
      ]
    },
    {
      "cell_type": "code",
      "metadata": {
        "id": "PPxXzWk7QWTh"
      },
      "source": [
        "# Plotting the graph\n",
        "sns.barplot(x = 'day', y = 'total_bill', data=data)\n",
        "plt.show()"
      ],
      "execution_count": null,
      "outputs": []
    },
    {
      "cell_type": "markdown",
      "source": [
        "Draw the bar plot with smoker value counts from the tips data"
      ],
      "metadata": {
        "id": "OHbOqc48WE9l"
      }
    },
    {
      "cell_type": "code",
      "source": [
        "# Checking for the unique smoker values\n",
        "set(data['smoker'])"
      ],
      "metadata": {
        "id": "_8fuOLk4V24J"
      },
      "execution_count": null,
      "outputs": []
    },
    {
      "cell_type": "code",
      "source": [
        "data.smoker.value_counts().plot(kind = 'bar', rot = 0)\n",
        "plt.show();"
      ],
      "metadata": {
        "id": "N31LTdDyWRxZ"
      },
      "execution_count": null,
      "outputs": []
    },
    {
      "cell_type": "markdown",
      "metadata": {
        "id": "FDk0j0tFDC_A"
      },
      "source": [
        "**10.** Plot **`lmplot()`** with\n",
        "* X-label =`'tip'`\n",
        "* Y-label=`'total_bill'`\n",
        "\n",
        "The **lineplot (lmplot)** is one of the most basic plots. It shows a line on a 2 dimensional plane. **lmplot()** method is used to draw a scatter plot onto a FacetGrid"
      ]
    },
    {
      "cell_type": "code",
      "metadata": {
        "id": "Hu_9y0x2QW_g"
      },
      "source": [
        "# Plotting the graph\n",
        "sns.lmplot(x = 'tip', y = 'total_bill', data=data); "
      ],
      "execution_count": null,
      "outputs": []
    },
    {
      "cell_type": "code",
      "source": [
        "sns.set(style='darkgrid')\n",
        "sns.lineplot(x = 'tip', y = 'total_bill', data=data);"
      ],
      "metadata": {
        "id": "ARmOmNngXbUs"
      },
      "execution_count": null,
      "outputs": []
    },
    {
      "cell_type": "code",
      "source": [
        "sns.lineplot(x='tip', y='total_bill',\n",
        "            hue='time', style='time',\n",
        "            markers=True, dashes=False, data=data);"
      ],
      "metadata": {
        "id": "CI33ahWIXsvd"
      },
      "execution_count": null,
      "outputs": []
    },
    {
      "cell_type": "markdown",
      "metadata": {
        "id": "wE0LqHEDDE2C"
      },
      "source": [
        "**11.** Display a Bivariate Distribution using a **`jointplot()`** with\n",
        "* X-label =`'tip'`\n",
        "* Y-label=`'total_bill'`\n",
        "\n",
        "Seaborn's **jointplot** displays a relationship between 2 variables (bivariate) as well as 1D profiles (univariate) in the margins. This plot is a convenience class that wraps JointGrid."
      ]
    },
    {
      "cell_type": "code",
      "metadata": {
        "id": "ge0dD379QXlx"
      },
      "source": [
        "# Plotting the graph\n",
        "sns.jointplot(x = 'tip', y = 'total_bill', data = data);"
      ],
      "execution_count": null,
      "outputs": []
    },
    {
      "cell_type": "markdown",
      "metadata": {
        "id": "3rX3EPf9DW5H"
      },
      "source": [
        "**12.** For the below-given **`uniform_data`**, plot a **HeatMap**\n",
        "\n",
        "uniform_data = np.random.rand(10, 12)"
      ]
    },
    {
      "cell_type": "code",
      "metadata": {
        "id": "Ob8JPa0XDZcf"
      },
      "source": [
        "# Defining the data\n",
        "uniform_data = np.random.rand(10, 12)\n",
        "\n",
        "# Plotting the graph\n",
        "sns.heatmap(uniform_data, annot = True);"
      ],
      "execution_count": null,
      "outputs": []
    },
    {
      "cell_type": "markdown",
      "metadata": {
        "id": "yfTHWXLQgc0Z"
      },
      "source": [
        "## Breast Cancer Visualization\n",
        "\n",
        "Here we use various visualization tools such as scatter plot, heatmap to get a better understanding of visualization by using a Breast Cancer dataset. This dataset has 569 records and we are supposed view those records with Benign tumors and those with Malignant tumors."
      ]
    },
    {
      "cell_type": "markdown",
      "metadata": {
        "id": "swTZeUO5Bfi3"
      },
      "source": [
        "## Dataset"
      ]
    },
    {
      "cell_type": "markdown",
      "metadata": {
        "id": "fQKsWtE5BcIu"
      },
      "source": [
        "### History\n",
        "\n",
        "Breast cancer (BC) is one of the most common cancers among women in the world today. Currently, the average risk of a woman in the United States developing breast cancer sometime in her life is about 13%, which means there is a 1 in 8 chance she will develop breast cancer!. An early diagnosis of BC can greatly improve the prognosis and chance of survival for patients. Thus an accurate identification of malignant tumors is of paramount importance.\n",
        "\n",
        "### Description\n",
        "\n",
        "The Breast cancer Data Set consists of 569 data instances. This is a binary classification problem which consists of 2 types of cancer classes. The tumor is classified as **benign (1)** or **malignant (0)** based on its geometry and shape. \n",
        "\n",
        "The features of the dataset include:\n",
        "\n",
        "* ID number\n",
        "* Diagnosis (M = malignant, B = benign) \n",
        "\n",
        "Ten real-valued features are computed for each cell nucleus:\n",
        "\n",
        "* radius (mean of distances from center to points on the perimeter) \n",
        "* texture (standard deviation of gray-scale values) \n",
        "* perimeter \n",
        "* area \n",
        "* smoothness (local variation in radius lengths) \n",
        "* compactness (perimeter^2 / area - 1.0) \n",
        "* concavity (severity of concave portions of the contour) \n",
        "* concave points (number of concave portions of the contour) \n",
        "* symmetry \n",
        "* fractal dimension (\"coastline approximation\" - 1)\n",
        "\n",
        "\n",
        "The mean, standard error and “worst” or largest (mean of the three largest values) of these features were computed for each image, resulting in 32 features. For instance, field 3 is Mean Radius, field 13 is Radius SE, field 23 is Worst Radius.\n",
        "\n",
        "Class distribution: 357 benign, 212 malignant\n",
        "\n",
        "Data source to this experiment : https://archive.ics.uci.edu/ml/datasets/breast+cancer+wisconsin+(diagnostic)\n",
        "\n"
      ]
    },
    {
      "cell_type": "markdown",
      "metadata": {
        "id": "8TLkcw3riOfv"
      },
      "source": [
        "Read the Breast Cancer dataset and see if there are any empty (NaN, NAN, na) or missing values in every column or attribute in the dataset."
      ]
    },
    {
      "cell_type": "code",
      "source": [
        "breast_cancer = pd.read_csv('breast_cancer.csv')"
      ],
      "metadata": {
        "id": "dvYgl5ZMbXlQ"
      },
      "execution_count": null,
      "outputs": []
    },
    {
      "cell_type": "code",
      "source": [
        "# First 5 entries of the data\n",
        "breast_cancer.head()"
      ],
      "metadata": {
        "id": "L5xHOb6FbaVE"
      },
      "execution_count": null,
      "outputs": []
    },
    {
      "cell_type": "code",
      "metadata": {
        "id": "t5WGJVpMBuN8"
      },
      "source": [
        "breast_cancer.isna().sum()"
      ],
      "execution_count": null,
      "outputs": []
    },
    {
      "cell_type": "markdown",
      "metadata": {
        "id": "3KQgCkZMiini"
      },
      "source": [
        "Count the number of rows and columns (attributes) in the dataset."
      ]
    },
    {
      "cell_type": "code",
      "metadata": {
        "id": "oirxZi0Oif0V"
      },
      "source": [
        "breast_cancer.shape"
      ],
      "execution_count": null,
      "outputs": []
    },
    {
      "cell_type": "markdown",
      "metadata": {
        "id": "iKmrJFSSkBbo"
      },
      "source": [
        "Get a count of the number of the number of Malignant (M) or Benign (B) cells and visualize the count."
      ]
    },
    {
      "cell_type": "code",
      "metadata": {
        "id": "S8awGBk4C0pE"
      },
      "source": [
        "breast_cancer['diagnosis'].value_counts()\n",
        "sns.countplot(breast_cancer['diagnosis'], label = 'count');"
      ],
      "execution_count": null,
      "outputs": []
    },
    {
      "cell_type": "markdown",
      "metadata": {
        "id": "6jfGoKKNlVmH"
      },
      "source": [
        "Look at the data types to see which columns need to be encoded. "
      ]
    },
    {
      "cell_type": "code",
      "metadata": {
        "id": "WE3dLeajDFq7"
      },
      "source": [
        "breast_cancer.dtypes"
      ],
      "execution_count": null,
      "outputs": []
    },
    {
      "cell_type": "markdown",
      "metadata": {
        "id": "OkX6g2Gshci8"
      },
      "source": [
        "Encode the categorical data values"
      ]
    },
    {
      "cell_type": "code",
      "metadata": {
        "id": "uVMil4JMDKWX"
      },
      "source": [
        "breast_cancer.iloc[:, 1].values"
      ],
      "execution_count": null,
      "outputs": []
    },
    {
      "cell_type": "markdown",
      "source": [
        "**Label Encoding:** Label Encoding assigns all the unique values of the feature a positive integer value [0, 1, 2.. ] in an alphabetical order."
      ],
      "metadata": {
        "id": "DjUM3PwO26vV"
      }
    },
    {
      "cell_type": "code",
      "metadata": {
        "id": "4rJHq0oQDQIR"
      },
      "source": [
        "from sklearn.preprocessing import LabelEncoder\n",
        "\n",
        "labelencoder_Y = LabelEncoder()\n",
        "breast_cancer.iloc[:, 1] = labelencoder_Y.fit_transform(breast_cancer.iloc[:,1].values)"
      ],
      "execution_count": null,
      "outputs": []
    },
    {
      "cell_type": "code",
      "metadata": {
        "id": "MiXsVTPWDVal"
      },
      "source": [
        "plt.scatter(breast_cancer['radius_mean'], breast_cancer['radius_mean']);"
      ],
      "execution_count": null,
      "outputs": []
    },
    {
      "cell_type": "markdown",
      "metadata": {
        "id": "t09IBOUBmVeE"
      },
      "source": [
        "Create a pair plot"
      ]
    },
    {
      "cell_type": "code",
      "metadata": {
        "id": "U7ZCYwtvDf2V"
      },
      "source": [
        "sns.pairplot(breast_cancer.iloc[:,1:5]);"
      ],
      "execution_count": null,
      "outputs": []
    },
    {
      "cell_type": "markdown",
      "metadata": {
        "id": "fhNF7XwJoRlC"
      },
      "source": [
        "Create a pair plot and see the diagnosis points"
      ]
    },
    {
      "cell_type": "code",
      "metadata": {
        "id": "gxmKqnk1DgoQ"
      },
      "source": [
        "sns.pairplot(breast_cancer.iloc[:,1:5], hue = 'diagnosis');"
      ],
      "execution_count": null,
      "outputs": []
    },
    {
      "cell_type": "markdown",
      "metadata": {
        "id": "1hfyRZ0WDxJh"
      },
      "source": [
        "Find out the correlation between the columns/attributes"
      ]
    },
    {
      "cell_type": "code",
      "metadata": {
        "id": "rmenTjCIDlTb"
      },
      "source": [
        "breast_cancer.iloc[:, 1:12].corr()"
      ],
      "execution_count": null,
      "outputs": []
    },
    {
      "cell_type": "markdown",
      "metadata": {
        "id": "iPn3qwv7D-6i"
      },
      "source": [
        "**Plot a HeatMap to visualize the correlation**\n",
        "\n",
        "Heatmaps are the graphical representation of data where each value is represented in a matrix with different color coding. Mostly heatmaps are used to find correlations between various data columns in a dataset.\n",
        "\n",
        "Note that variables with 100% correlations follow a perfectly linear relation as can be seen from the scatter plot above.\n"
      ]
    },
    {
      "cell_type": "code",
      "metadata": {
        "id": "o82JN597r6Yk"
      },
      "source": [
        "sns.heatmap(breast_cancer.iloc[:,1:12].corr());"
      ],
      "execution_count": null,
      "outputs": []
    },
    {
      "cell_type": "code",
      "metadata": {
        "id": "GG6aANc2soaZ"
      },
      "source": [
        "sns.heatmap(breast_cancer.iloc[:,1:12].corr(), annot = True);"
      ],
      "execution_count": null,
      "outputs": []
    },
    {
      "cell_type": "markdown",
      "metadata": {
        "id": "nP3XEC3itL6k"
      },
      "source": [
        "Resize the heatmap"
      ]
    },
    {
      "cell_type": "code",
      "metadata": {
        "id": "coIjwgp6s9nU"
      },
      "source": [
        "plt.figure(figsize=(10,10))\n",
        "sns.heatmap(breast_cancer.iloc[:,1:12].corr(), annot = True);"
      ],
      "execution_count": null,
      "outputs": []
    },
    {
      "cell_type": "markdown",
      "metadata": {
        "id": "8q_b6Y4KtSTc"
      },
      "source": [
        "Express correlation as a percentage"
      ]
    },
    {
      "cell_type": "code",
      "metadata": {
        "id": "YeG6UuGhDsrY"
      },
      "source": [
        "plt.figure(figsize=(10,10))\n",
        "sns.heatmap(breast_cancer.iloc[:,1:12].corr(), annot = True,fmt='0.0%');"
      ],
      "execution_count": null,
      "outputs": []
    },
    {
      "cell_type": "markdown",
      "metadata": {
        "id": "UWBJD-M8ZV7e"
      },
      "source": [
        "**13.** From the given lists `sleeping, eating, working and playing` hours on a scale of five days, perform a Stackplot, with the following measures:\n",
        "\n",
        "* Add colors to differentiate each list of data\n",
        "* Place a Legend accordingly\n",
        "\n",
        "`days =` `[1, 2, 3, 4, 5]`\n",
        "\n",
        "`sleeping = ` `[7, 8, 6, 11, 7]`\n",
        "\n",
        "`eating = ` `[2, 3, 4, 3, 2]`\n",
        "\n",
        "`working =` `[7, 8, 7, 2, 2]`\n",
        "\n",
        "`playing =` `[8, 5, 7, 8, 13]`"
      ]
    },
    {
      "cell_type": "code",
      "metadata": {
        "id": "urYYl4vwZyiM"
      },
      "source": [
        "# Defining the data\n",
        "days = [1,2,3,4,5]\n",
        "sleeping =[7,8,6,11,7]\n",
        "eating = [2,3,4,3,2]\n",
        "working =[7,8,7,2,2]\n",
        "playing = [8,5,7,8,13]\n",
        "\n",
        "# Plotting the graph\n",
        "plt.stackplot(days,sleeping, eating, working, playing,colors = ['r','b','g','m','w'],labels=['days','sleeping', 'eating', 'working', 'playing'])\n",
        "plt.legend()\n",
        "plt.show()"
      ],
      "execution_count": null,
      "outputs": []
    },
    {
      "cell_type": "markdown",
      "metadata": {
        "id": "KXh5pMdVZgRD"
      },
      "source": [
        "**14.** For the given DataFrame below, perform the following plots along Two Rows and Two Columns:\n",
        "* Line Plot with following measures,\n",
        "  * `marker = 'o', alpha = 0.4`\n",
        "* Line Plot with following measures,\n",
        "  * `linestyle = 'none', marker='D', color=\"green\", alpha=0.3`\n",
        "* Scatter Plot with following measures,\n",
        "  * `c = df['y'], alpha = 0.3`\n",
        "* Scatter Plot with following measures,\n",
        "  * `c = df['x'], alpha = 0.3`\n",
        "\n",
        "`DataFrame({'x': range(1,101), 'y': np.random.randn(100)*15+range(1,101) }) `"
      ]
    },
    {
      "cell_type": "code",
      "metadata": {
        "id": "b7EYt3WUZs_K"
      },
      "source": [
        "# Defining the data\n",
        "df = pd.DataFrame({'x': range(1,101), 'y': np.random.randn(100)*15 + range(1,101)}) "
      ],
      "execution_count": null,
      "outputs": []
    },
    {
      "cell_type": "code",
      "metadata": {
        "id": "dJKnp5inw8zH"
      },
      "source": [
        "# Plotting the graph\n",
        "fig, ax = plt.subplots(2,2)\n",
        "ax[0,0].plot('x','y',data=df, marker=\"o\", alpha=0.4)\n",
        "ax[0,1].plot('x','y', data=df, linestyle=\"none\", marker=\"o\", color= \"green\", alpha=0.2)\n",
        "ax[1,0].scatter('x','y', data=df, c=df['y'], alpha=0.4)\n",
        "ax[1,1].scatter('x','y', data=df, c=df['x'], alpha=0.4)\n",
        "plt.show()"
      ],
      "execution_count": null,
      "outputs": []
    },
    {
      "cell_type": "markdown",
      "metadata": {
        "id": "SXw7PMrZZlXH"
      },
      "source": [
        "**15.** For the given dictionary of IMDB Genres data, perform a `Pie Plot` with the following measures:\n",
        "\n",
        "* **Explode** the 'Biography' Sliced section\n",
        "\n",
        "IMDB_Genres = {\n",
        "\n",
        "\n",
        "'Action': 133,\n",
        "\n",
        "'Biography': 64,\n",
        "\n",
        "'Comedy': 267,\n",
        "\n",
        "'Sci-Fi': 32\n",
        "\n",
        "}"
      ]
    },
    {
      "cell_type": "code",
      "metadata": {
        "id": "BK55n5CAZ18S"
      },
      "source": [
        "# Defining the data\n",
        "IMDB_Genres = {\n",
        "    'Action': 133,\n",
        "    'Biography': 64,\n",
        "    'Comedy': 267,\n",
        "    'Sci-Fi': 32\n",
        "}"
      ],
      "execution_count": null,
      "outputs": []
    },
    {
      "cell_type": "code",
      "metadata": {
        "id": "pqzDGG7Cvgf4"
      },
      "source": [
        "# Plotting the graph\n",
        "plt.pie(IMDB_Genres.values(),explode=(.0,.1,.1,.1),shadow=True, labels= IMDB_Genres.keys())\n",
        "plt.show()"
      ],
      "execution_count": null,
      "outputs": []
    },
    {
      "cell_type": "markdown",
      "metadata": {
        "id": "bZv-nnznaAVb"
      },
      "source": [
        "**16.** For the given x, y, z values given below, perform a 3D Plot\n",
        "\n",
        "z = np.linspace(0, 1, 100)\n",
        "\n",
        "x = z * np.sin(20 * z)\n",
        "\n",
        "y = z * np.cos(20 * z)"
      ]
    },
    {
      "cell_type": "code",
      "metadata": {
        "id": "1uBJuQh6aFr4"
      },
      "source": [
        "# Defining the data\n",
        "z = np.linspace(0, 1, 100)\n",
        "x = z * np.sin(20 * z)\n",
        "y = z * np.cos(20 * z)\n",
        "\n",
        "# Plotting the graph\n",
        "plt.figure(figsize=(10,8))\n",
        "ax = plt.axes(projection = '3d')\n",
        "ax.plot3D(x,y,z)\n",
        "plt.show()"
      ],
      "execution_count": null,
      "outputs": []
    },
    {
      "cell_type": "markdown",
      "metadata": {
        "id": "BEXjXTq6aLi2"
      },
      "source": [
        "**17.** For the X values below, do the following:\n",
        "* Calculate the squares of X values and store it in y1 variable\n",
        "* Calculate the Log to the Base 10 of X values and store it in y2 variable\n",
        "* Plot the respective (X, y1) & (X, y2) as Sub-Plots Horizontally\n",
        "\n",
        "X = np.arange(1,10)\n",
        "\n",
        "y1 = np.square(X)\n",
        "\n",
        "y2 = np.log10(X)\n"
      ]
    },
    {
      "cell_type": "code",
      "metadata": {
        "id": "phca1tIEaPZv"
      },
      "source": [
        "# Defining the data\n",
        "X = np.arange(1,10)\n",
        "y1 = np.square(X)\n",
        "y2 = np.log10(X)"
      ],
      "execution_count": null,
      "outputs": []
    },
    {
      "cell_type": "code",
      "metadata": {
        "id": "waAoC4f2yvE6"
      },
      "source": [
        "# Plotting the graph\n",
        "plt.figure(figsize=(8,8))\n",
        "plt.subplot(121)\n",
        "plt.plot(X,y1)\n",
        "\n",
        "plt.subplot(122)\n",
        "plt.plot(X,y2)\n",
        "plt.show()"
      ],
      "execution_count": null,
      "outputs": []
    },
    {
      "cell_type": "markdown",
      "metadata": {
        "id": "U1hEvzeihZHw"
      },
      "source": [
        "**18.** Plot parallel co-ordinates graph to IRIS dataset."
      ]
    },
    {
      "cell_type": "markdown",
      "source": [
        "The **Iris** flower data set consists of 50 samples from each of three species of Iris Flowers — **Iris Setosa, Iris Virginica and Iris Versicolor**. The Iris flower data set was introduced by the British statistician and biologist Ronald Fisher in his 1936 paper “The use of multiple measurements in taxonomic problems”.\n",
        "\n",
        "Iris data is a multivariate data set. Four features measured from each sample are —sepal length, sepal width, petal length and petal width, in centimeters.\n",
        "\n",
        "Iris data is publicly available to use and is one of the most widely used data set, mostly by the beginners in the area of Data Science & Machine Learning. It consists of a set of 150 records under 5 attributes — Sepal length, Sepal width, Petal length, Petal width and Class-Labels(Species).\n",
        "\n",
        "In Machine learning terminology, the observed features like sepal length, sepal width, petal length and petal width are called independent variables while the class-label which is to be determined is called dependent variable.\n",
        "\n"
      ],
      "metadata": {
        "id": "Zfyh2ehAfKWQ"
      }
    },
    {
      "cell_type": "code",
      "metadata": {
        "id": "IHnY75eiM3fV"
      },
      "source": [
        "# Reading the data \n",
        "iris = pd.read_csv( 'iris.csv' ) "
      ],
      "execution_count": null,
      "outputs": []
    },
    {
      "cell_type": "code",
      "metadata": {
        "id": "2rh955x19lw6"
      },
      "source": [
        "iris.head()"
      ],
      "execution_count": null,
      "outputs": []
    },
    {
      "cell_type": "markdown",
      "source": [
        "A **Parallel Coordinates Plot** (PCP) is a visualization technique used to analyze multivariate numerical data. It allows data analysts to compare many quantitative variables together looking for patterns and relationships between them. They are appropriate for comparing multiple numerical variables simultaneously when those variables have different magnitudes (different scales) and different units of measurement. The idea is to find patterns, similarities, clusters, and positive, negative, or no particular relationships in multidimensional datasets."
      ],
      "metadata": {
        "id": "aMznifwahMrJ"
      }
    },
    {
      "cell_type": "code",
      "metadata": {
        "id": "int63i2Ghcq6"
      },
      "source": [
        "# Plotting the graph\n",
        "pd.plotting.parallel_coordinates(iris, 'Name', color=('#556270', '#4ECDC4', '#C7F464'));"
      ],
      "execution_count": null,
      "outputs": []
    },
    {
      "cell_type": "markdown",
      "metadata": {
        "id": "UpxGKdZK6QSJ"
      },
      "source": [
        "**Tree based models**"
      ]
    },
    {
      "cell_type": "markdown",
      "metadata": {
        "id": "DaP6m_FN6uOT"
      },
      "source": [
        "**19.** Construct a simple regression tree for the Hitters dataset."
      ]
    },
    {
      "cell_type": "markdown",
      "metadata": {
        "id": "mjo277ok6Q6n"
      },
      "source": [
        "**Basics of decision trees - Hitters data**\n",
        "We use the Hitters data set to predict a baseball player’s Salary based on Years (the number of years that he has played in the major leagues) and Hits (the number of hits that he made in the previous year).\n",
        "\n",
        "We first remove observations that are missing Salary values, and log-transform Salary so that its distribution has more of a typical bell-shape. (Recall that Salary is measured in thousands of dollars.)"
      ]
    },
    {
      "cell_type": "code",
      "metadata": {
        "id": "kjZAE_xB4uaM"
      },
      "source": [
        "hitters = pd.read_csv('Hitters.csv')\n",
        "hitters.dropna(axis=0, how='any', subset=['Salary'], inplace=True)\n",
        "hitters.head()"
      ],
      "execution_count": null,
      "outputs": []
    },
    {
      "cell_type": "markdown",
      "metadata": {
        "id": "5fCKGfhC6ahN"
      },
      "source": [
        "**Exploring and transforming the Hitters data set**"
      ]
    },
    {
      "cell_type": "code",
      "metadata": {
        "id": "GPBv6E02569r"
      },
      "source": [
        "from sklearn.preprocessing import FunctionTransformer\n",
        "transformer = FunctionTransformer(func = np.log, inverse_func= np.exp)\n",
        "y = transformer.transform(hitters.Salary.values.reshape(-1,1))\n",
        "X = hitters[['Years','Hits']]\n",
        "\n",
        "fig = plt.figure(figsize = (14,6))\n",
        "ax = plt.subplot(121)\n",
        "ax = sns.distplot(y)\n",
        "ax.set_title('Histogram (dist) plot of log salaries')\n",
        "\n",
        "ax = plt.subplot(122)\n",
        "ax.set_xlabel('Years')\n",
        "ax.set_ylabel('Hits')\n",
        "ax.set_title('Scatter plot - colors are log salary')\n",
        "\n",
        "ax2 = ax.scatter(hitters.Years, hitters.Hits, alpha = .4, c = y.flatten(), cmap = 'seismic')\n",
        "plt.colorbar(ax2)\n",
        "\n",
        "plt.show;"
      ],
      "execution_count": null,
      "outputs": []
    },
    {
      "cell_type": "markdown",
      "metadata": {
        "id": "oUAjUdmp6dpm"
      },
      "source": [
        "**Train simple regression tree**"
      ]
    },
    {
      "cell_type": "code",
      "metadata": {
        "id": "5hWkzv2r6BDR"
      },
      "source": [
        "from sklearn.tree import DecisionTreeRegressor\n",
        "simple_tree = DecisionTreeRegressor(random_state = 0, max_depth = 2, max_leaf_nodes=3)\n",
        "simple_tree.fit(X, y)"
      ],
      "execution_count": null,
      "outputs": []
    },
    {
      "cell_type": "markdown",
      "metadata": {
        "id": "OblZeIaU6g7x"
      },
      "source": [
        "**A simple regression tree for the Hitters data**"
      ]
    },
    {
      "cell_type": "code",
      "metadata": {
        "id": "6EQ6-nQe5_Xm"
      },
      "source": [
        "from sklearn import tree\n",
        "import graphviz \n",
        "\n",
        "dot_data = tree.export_graphviz(simple_tree, out_file=None, feature_names = ['Years','Hits'], class_names = ['Salary'])  \n",
        "graph = graphviz.Source(dot_data)  \n",
        "graph "
      ],
      "execution_count": null,
      "outputs": []
    },
    {
      "cell_type": "markdown",
      "metadata": {
        "id": "VHfHdGCP_n6Y"
      },
      "source": [
        "### Please answer the questions below to complete the experiment:\n",
        "\n",
        "\n"
      ]
    },
    {
      "cell_type": "markdown",
      "metadata": {
        "id": "NacSL0FsDmv_"
      },
      "source": [
        "#### Consider the following statement(s) about Matplotlib and Seaborn and answer Q.1.\n",
        "\n",
        "A. Matplotlib plots various graphs (such as bar, pie, lines, scatter plots) using Pandas and NumPy.\n",
        "\n",
        "B. Seaborn library is basically based on Matplotlib which uses Matplotlib along with Pandas and NumPy for plotting graphs."
      ]
    },
    {
      "cell_type": "code",
      "metadata": {
        "id": "eNsVIkpnDpLc"
      },
      "source": [
        "#@title Q.1. Which of the above statement(s) is/are True? { run: \"auto\", form-width: \"500px\", display-mode: \"form\" }\n",
        "Answer1 = \"\" #@param [\"\",\"Only A\", \"Only B\", \"Both A and B\", \"None of the above\"]\n"
      ],
      "execution_count": null,
      "outputs": []
    },
    {
      "cell_type": "markdown",
      "metadata": {
        "id": "TDtkC9JLYJIs"
      },
      "source": [
        "#### Consider the following statement(s) about Matplotlib and Seaborn and answer Q.2.\n",
        "\n",
        "A. Matplotlib has multiple figures can be opened, but need to be closed explicitly.\n",
        "\n",
        "B. Seaborn automates the creation of multiple figures. This sometimes leads to OOM (out of memory) issues."
      ]
    },
    {
      "cell_type": "code",
      "metadata": {
        "id": "8u1SE6M5YVmV"
      },
      "source": [
        "#@title Q.2. Which of the above statement(s) is/are True? { run: \"auto\", form-width: \"500px\", display-mode: \"form\" }\n",
        "Answer2 = \"\" #@param [\"\",\"Only A\", \"Only B\", \"Both A and B\", \"None of the above\"]\n"
      ],
      "execution_count": null,
      "outputs": []
    },
    {
      "cell_type": "code",
      "metadata": {
        "id": "NMzKSbLIgFzQ"
      },
      "source": [
        "#@title How was the experiment? { run: \"auto\", form-width: \"500px\", display-mode: \"form\" }\n",
        "Complexity = \"\" #@param [\"\",\"Too Simple, I am wasting time\", \"Good, But Not Challenging for me\", \"Good and Challenging for me\", \"Was Tough, but I did it\", \"Too Difficult for me\"]\n"
      ],
      "execution_count": null,
      "outputs": []
    },
    {
      "cell_type": "code",
      "metadata": {
        "id": "DjcH1VWSFI2l"
      },
      "source": [
        "#@title If it was too easy, what more would you have liked to be added? If it was very difficult, what would you have liked to have been removed? { run: \"auto\", display-mode: \"form\" }\n",
        "Additional = \"\" #@param {type:\"string\"}\n"
      ],
      "execution_count": null,
      "outputs": []
    },
    {
      "cell_type": "code",
      "metadata": {
        "id": "4VBk_4VTAxCM"
      },
      "source": [
        "#@title Can you identify the concepts from the lecture which this experiment covered? { run: \"auto\", vertical-output: true, display-mode: \"form\" }\n",
        "Concepts = \"\" #@param [\"\",\"Yes\", \"No\"]\n"
      ],
      "execution_count": null,
      "outputs": []
    },
    {
      "cell_type": "code",
      "metadata": {
        "id": "XH91cL1JWH7m"
      },
      "source": [
        "#@title  Text and image description/explanation and code comments within the experiment: { run: \"auto\", vertical-output: true, display-mode: \"form\" }\n",
        "Comments = \"\" #@param [\"\",\"Very Useful\", \"Somewhat Useful\", \"Not Useful\", \"Didn't use\"]\n"
      ],
      "execution_count": null,
      "outputs": []
    },
    {
      "cell_type": "code",
      "metadata": {
        "id": "z8xLqj7VWIKW"
      },
      "source": [
        "#@title Mentor Support: { run: \"auto\", vertical-output: true, display-mode: \"form\" }\n",
        "Mentor_support = \"\" #@param [\"\",\"Very Useful\", \"Somewhat Useful\", \"Not Useful\", \"Didn't use\"]\n"
      ],
      "execution_count": null,
      "outputs": []
    },
    {
      "cell_type": "code",
      "metadata": {
        "id": "FzAZHt1zw-Y-",
        "cellView": "form"
      },
      "source": [
        "#@title Run this cell to submit your notebook for grading { vertical-output: true }\n",
        "try:\n",
        "  if submission_id:\n",
        "      return_id = submit_notebook()\n",
        "      if return_id : submission_id = return_id\n",
        "  else:\n",
        "      print(\"Please complete the setup first.\")\n",
        "except NameError:\n",
        "  print (\"Please complete the setup first.\")"
      ],
      "execution_count": null,
      "outputs": []
    }
  ]
}